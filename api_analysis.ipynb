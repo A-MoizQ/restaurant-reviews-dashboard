{
 "cells": [
  {
   "cell_type": "code",
   "execution_count": 15,
   "metadata": {},
   "outputs": [],
   "source": [
    "import os\n",
    "import json\n",
    "import anthropic\n",
    "from time import sleep\n",
    "# Set the environment variable within the notebook\n",
    "os.environ[\"ANTHROPIC_API_KEY\"] = \"\"\n",
    "\n",
    "client = anthropic.Anthropic()"
   ]
  },
  {
   "cell_type": "code",
   "execution_count": 2,
   "metadata": {},
   "outputs": [
    {
     "name": "stdout",
     "output_type": "stream",
     "text": [
      "2346\n"
     ]
    }
   ],
   "source": [
    "with open(\"reviews.json\", 'r') as f:\n",
    "    reviews = json.load(f)\n",
    "print(len(reviews))"
   ]
  },
  {
   "cell_type": "code",
   "execution_count": null,
   "metadata": {},
   "outputs": [
    {
     "name": "stdout",
     "output_type": "stream",
     "text": [
      "Total batches created: 79\n",
      "\n",
      "review_1: For the price not worth going back. Thing more the add than that! (END OF REVIEW)\n",
      "review_2: Entertaining some guests from out of town, they remarked how this was the best meal they had in sf.Wagyu skewers, beef noodle soup, hamachi (best value!), and the a5 dumpling was our favorite. (END OF REVIEW)\n",
      "review_3: Food was outstanding, service was relaxed but good. Their beef noodle soup, wagyu, and uni were the highlights, but everything else we tried was excellent too.There was an event taking place that evening. Made it a bit livelier but didn’t interfere with our dinner. (END OF REVIEW)\n",
      "review_4: waited for 15 minutes in an empty restaurant and other than water no-one showed up. Food choices seemed very limited. waited 10 more minutes and walked out. No apologies, no words of how can we do better. I understand these are tough times, but having a restaurant in an expensive neighborhood, least you can do is have some service (END OF REVIEW)\n",
      "review_5: 1 yr anniversary (END OF REVIEW)\n",
      "review_6: There’s no sign outside so you have to look for the restaurant. The food was fantastic but the ambiance is weird. It didn’t feel like a restaurant. It felt like just a bar. It feels mediocre for the price but I’d say food was great… (END OF REVIEW)\n",
      "review_7: Yum yum yum. Innovative dishes with really thoughtful and unique combinations of spices, textures, and ingredients. Drinks are awesome too! (END OF REVIEW)\n",
      "review_8: There are so many places in San Francisco to spend too much money for okay food. This is not that. This is a thoughtful omakase menu by a wonderful chef who has poured her soul into each dish. A mix of uniqueness, fantastic taste, and love. We felt so privileged to get to experience this—on our list, it will be one of those few places that we discovered before everyone else did. We will be back, and will be telling our friends! (END OF REVIEW)\n",
      "review_9: Items in our order was forgotten, had to be reminded.  Never got our water cups refilled. (END OF REVIEW)\n",
      "review_10: Had chef's omakase tasting menu - our entire group loved it! Beautiful presentation and quite filling. Momo toast, Chawanmushi, A5 Wagyu were some of our favorites. Cocktails were creative and delicious. (END OF REVIEW)\n",
      "review_11: The food and Japanese whiskey flights were incredible. The service was outstanding. It was perfect for our birthday celebration. Highly recommend. It's a small menu and each dish was outstanding. (END OF REVIEW)\n",
      "review_12: Food is amazing.  Try the uni dishes or the beef noodle soup! (END OF REVIEW)\n",
      "review_13: I looked for a unique dining experience to entertain business guests in SF this week and I found a gem with 5A5!!! I let the excellent Cheif Cat select and have us served family style and WHAT A CULINARY TREAT!!! From Starters to Entrees, nothing disappointed. Her last Entree was the Beef and Noodles, which all of us raved about - really an exceptional dish.If you want to skip the traditional Steak Houses of SF for a unique culinary experience, it’s 5A5!! (END OF REVIEW)\n",
      "review_14: Food was wonderful and excellent service by Josue. The beef noodle soup was incredible, but the scallops were amazing. (END OF REVIEW)\n",
      "review_15: Cool place. Excellent food. Highly recommend the beef noodle soup (END OF REVIEW)\n",
      "review_16: Wonderful dinner, some of the best noodle soup I've had anywhere and the lobster tempura was excellent.  Great environment. (END OF REVIEW)\n",
      "review_17: Great cocktails and great food. Service was great and the Chef even came out to talk with us. (END OF REVIEW)\n",
      "review_18: Fantastic. Can be loud at times, but that's me, not the restaurant. The atmosphere is great. (END OF REVIEW)\n",
      "review_19: Delightfully deceiving! The food was outstanding, and the chef delivered made-to-order dishes that blew our minds. Thank you! (END OF REVIEW)\n",
      "review_20: Good food, but not commensurate to the high prices. (END OF REVIEW)\n",
      "review_21: Excellent food: loved Chef Wong’s take on the Asian menu - highly recommend! Check this place out and you won’t be disappointed (END OF REVIEW)\n",
      "review_22: A5 was soooo melt in your mouth tasty. Tried both A5 items on the menu & a number of others. Cocktails were creative and presentation was fantastic! (END OF REVIEW)\n",
      "review_23: Intimate but fun, lively setting with a mix of diners and happy hour guests. Short rib beef noodle soup was delish, a5 wagyu skewers were a fav too. Chicken wings/wangs were a bit messy but great crunch/texture. Reasonably priced for the quality (END OF REVIEW)\n",
      "review_24: Delicious and cute with highly attentive service. The entrance is a bit hard to see but worth the hunt. The beef soup is the highlight if you want something hearty but all the bite were delicious. We ordered almost everything between two people and a Japanese whisky flight. Shrimp toast was more delicious then it had any right to be. Wagu dumpling with it's rich broth was also surprisingly exceptional. Salmon collar was also decent portion and so fatty and flavorful. The melon salad with the salmon in a fish sauce dressing should be it's own dish. I'll be back. (END OF REVIEW)\n",
      "review_25: The two cocktails I has were amazing (Black & Gold + Forget Me Not), but the Change Your Life bowl did not live up to the name and the shrimp and uni toast was also underwhelming (END OF REVIEW)\n",
      "review_26: Great to see 5A5 reboot happening. Excited to see this come out of soft opening. Outstanding vibes and people. (END OF REVIEW)\n",
      "review_27: The food is extremely salty for me as a Taiwanese living in the US for about 7 years. Service is good. Noted that the restaurant charges an 18% service fee on top of the tips, which, together with the item price, makes the experience over-priced. I would try other fine dining options which would not lead to having to drink five glasses of water in an hour. The taste of standard Asian restaurants is also more of the taste of my liking. (END OF REVIEW)\n",
      "review_28: Fantastic meal, great selection of different small plates for us to try. A5 Wagyu skewers and beef noodle soup were our favs. QR code ordering/payment was easy and efficient. (END OF REVIEW)\n",
      "review_29: My experience was awesome! Went for a friends birthday and am very happy about my decision. (END OF REVIEW)\n",
      "review_30: Loved the service and the food. I would definitely recommend to another and come back to this place. Food was fresh and exquisite . (END OF REVIEW)\n",
      "\n"
     ]
    }
   ],
   "source": [
    "reviewTexts = []  \n",
    "batch = \"\"  \n",
    "counter = 1\n",
    "\n",
    "for review in reviews:\n",
    "    batch += \"review_\" + str(counter) + \": \" + review[\"review_\" + str(counter)][\"Review\"] + \" (END OF REVIEW)\\n\"\n",
    "    \n",
    "    #storing reviews in batches of 30 reviews due to api limit restrictions\n",
    "    if counter % 30 == 0:\n",
    "        reviewTexts.append(batch)  \n",
    "        batch = \"\"  \n",
    "    \n",
    "    counter += 1\n",
    "\n",
    "#if anything left in batch variable, add it to the review text aswell\n",
    "if batch:\n",
    "    reviewTexts.append(batch)\n",
    "\n",
    "print(f\"Total batches created: {len(reviewTexts)}\")\n",
    "print()\n",
    "print(reviewTexts[0])\n"
   ]
  },
  {
   "cell_type": "code",
   "execution_count": 26,
   "metadata": {},
   "outputs": [
    {
     "name": "stdout",
     "output_type": "stream",
     "text": [
      "79\n"
     ]
    }
   ],
   "source": [
    "def generateMsgs(client,text):\n",
    "    message = client.messages.create(\n",
    "        model=\"claude-3-5-sonnet-20241022\",\n",
    "        max_tokens=5000,\n",
    "        temperature=0,\n",
    "        system=\"\"\"You are a review analyst for my food restaurant.\n",
    "                  You will stricly follow the following guidelines given in tripple ticks.\n",
    "                  '''\n",
    "                  1. You will do a sentiment analysis of the review. You will strictly stick to displaying either positive, negative or neutral for the output of sentiment analysis.\n",
    "                  2. You will extract the comment(s) about the food.\n",
    "                  3. You will extract the comment(s) about staff or service.\n",
    "                  4. You are not allowed to add or subtract any information given the above points.\n",
    "                  5. If the review has no information about anything mentioned above just write neutral in sentiment and write no information given in other output fields (STRICTLY FOLLOW THIS).\n",
    "                  6. If there is some personal information given in the review replace it like following\n",
    "                        1. For example if someone has given their phone number then write it as <phone-number>\n",
    "                        2. If someone has given their name, write it as <name>\n",
    "                        3. If someone has given their address, write it as <address>\n",
    "                        4. Follow similar pattern for any other time of personal details/information  \n",
    "\n",
    "                  7. Note that each review ends with (END OF REVIEW)\\n\n",
    "                  8. The review number should be same as the review number in the review.\n",
    "                  9. You will process all reviews in the given text.\n",
    "                  '''\n",
    "                  The output should be formatted in the following order given in curly brackets. Do not add anything else to the output other than what is mentioned.\n",
    "                  {\n",
    "                    Review: (number of review. follow 1, 2, 3, 4... counting)\n",
    "                    Sentiment: (positive,negative or neutral based on your analysis)\n",
    "                    Comment about food: (extract the comment about food from the review)\n",
    "                    Comment about staff/service: (extract the comment about staff/service from the review)                  \n",
    "                  },\n",
    "        \"\"\",\n",
    "        messages=[\n",
    "            {\n",
    "                \"role\": \"user\",\n",
    "                \"content\": [\n",
    "                    {\n",
    "                        \"type\": \"text\",\n",
    "                        \"text\": text\n",
    "                    }\n",
    "                ]\n",
    "            }\n",
    "        ]\n",
    "    )\n",
    "    return message\n",
    "\n",
    "responses = []\n",
    "for batch in reviewTexts:\n",
    "    try:\n",
    "        response = generateMsgs(client,batch)\n",
    "        responses.append(response.content[0].text)\n",
    "        sleep(5)\n",
    "    except:\n",
    "        print(\"Exception occurred. Retring in 30 seconds...\")\n",
    "        sleep(30)\n",
    "\n",
    "print(len(responses))\n"
   ]
  },
  {
   "cell_type": "code",
   "execution_count": null,
   "metadata": {},
   "outputs": [
    {
     "name": "stdout",
     "output_type": "stream",
     "text": [
      "Skipping malformed line: [Continued in next response due to length limit...]\n",
      "Skipping malformed line: [Continued response in next part due to length limit]\n",
      "Skipping malformed line: [Continued in next response due to length limit...]\n",
      "Skipping malformed line: [Due to length constraints, I'll stop here but would continue with the same format for all remaining reviews]\n",
      "Skipping malformed line: [Continue with the remaining reviews? Let me know if you want me to process more.]\n",
      "Skipping malformed line: [Due to length constraints, I'll stop here but would continue with the same format for the remaining reviews]\n",
      "Skipping malformed line: [Due to length constraints, I'll continue with the next reviews if needed]\n",
      "Skipping malformed line: [Due to length constraints, I'll continue with the remaining reviews if needed]\n",
      "Skipping malformed line: [Continued response in next part due to length limit]\n",
      "Skipping malformed line: [Due to length constraints, I'll continue with a few more reviews. Would you like me to continue with the rest?]\n",
      "Skipping malformed line: [The pattern repeats for reviews 7-30 as they are exact duplicates of reviews 1-6]\n",
      "Successfully processed 2081 reviews into a JSON file.\n"
     ]
    }
   ],
   "source": [
    "parsed_reviews = []  #list of dicts containing all reviews cleaned\n",
    "review_counter = 1  #counter to keep track of reviews\n",
    "\n",
    "for response in responses:\n",
    "    lines = response.splitlines()  #since it was strings in dict format, we split it line by line\n",
    "    current_review = {}  #temp dict to hold current review\n",
    "\n",
    "    for line in lines:\n",
    "        line = line.strip()  #remove leading and trailing spacing from current line\n",
    "        if line.startswith(\"{\"):\n",
    "            #if it is { then it means new review starts, so we reset current_review dict\n",
    "            current_review = {}\n",
    "        elif line.startswith(\"}\"):\n",
    "            #if it is } then it is end of current review\n",
    "            if current_review:  #check if review is not empty\n",
    "                current_review[\"Review\"] = review_counter  #add the review number\n",
    "                parsed_reviews.append(current_review)\n",
    "                review_counter += 1  \n",
    "        elif line:  #if its not starting or ending bracket then we are dealing with key:value pair\n",
    "            try:\n",
    "                key, value = line.split(\":\", 1)  #split it by first colon\n",
    "                key = key.strip()  #remove spaces\n",
    "                value = value.strip()  #remove spaces\n",
    "                if key != \"Review\":  #ignoring the review counter by claude AI to allow for our own counter\n",
    "                    current_review[key] = value\n",
    "            except ValueError:\n",
    "                print(f\"Skipping malformed line: {line}\")\n",
    "\n",
    "#save data into json\n",
    "with open(\"analysis.json\", \"w\", encoding=\"utf-8\") as json_file:\n",
    "    json.dump(parsed_reviews, json_file, indent=4)\n",
    "\n",
    "#check how many reviews saved\n",
    "print(f\"Successfully processed {len(parsed_reviews)} reviews into a JSON file.\")"
   ]
  },
  {
   "cell_type": "code",
   "execution_count": null,
   "metadata": {},
   "outputs": [],
   "source": []
  }
 ],
 "metadata": {
  "kernelspec": {
   "display_name": "moiz",
   "language": "python",
   "name": "python3"
  },
  "language_info": {
   "codemirror_mode": {
    "name": "ipython",
    "version": 3
   },
   "file_extension": ".py",
   "mimetype": "text/x-python",
   "name": "python",
   "nbconvert_exporter": "python",
   "pygments_lexer": "ipython3",
   "version": "3.12.7"
  }
 },
 "nbformat": 4,
 "nbformat_minor": 2
}
